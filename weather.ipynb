{
 "cells": [
  {
   "cell_type": "code",
   "execution_count": 3,
   "id": "172dcf49",
   "metadata": {},
   "outputs": [],
   "source": [
    "import os\n",
    "from dotenv import load_dotenv\n",
    "\n",
    "load_dotenv()\n",
    "\n",
    "API_key = os.getenv('api_key_weathermap')"
   ]
  },
  {
   "cell_type": "code",
   "execution_count": null,
   "id": "8aba652e",
   "metadata": {},
   "outputs": [
    {
     "data": {
      "text/plain": [
       "<Response [200]>"
      ]
     },
     "execution_count": 4,
     "metadata": {},
     "output_type": "execute_result"
    }
   ],
   "source": [
    "import requests\n",
    "\n",
    "city_name = 'Bologna'\n",
    "\n",
    "url = f\"https://api.openweathermap.org/data/2.5/weather?q={city_name}&appid={API_key}\"\n",
    "\n",
    "result = requests.get(url)\n",
    "result"
   ]
  },
  {
   "cell_type": "code",
   "execution_count": null,
   "id": "3afcbd63",
   "metadata": {},
   "outputs": [
    {
     "data": {
      "text/plain": [
       "{'coord': {'lon': 11.4333, 'lat': 44.4667},\n",
       " 'weather': [{'id': 804,\n",
       "   'main': 'Clouds',\n",
       "   'description': 'overcast clouds',\n",
       "   'icon': '04d'}],\n",
       " 'base': 'stations',\n",
       " 'main': {'temp': 292.62,\n",
       "  'feels_like': 292.37,\n",
       "  'temp_min': 292.53,\n",
       "  'temp_max': 293.85,\n",
       "  'pressure': 1014,\n",
       "  'humidity': 67,\n",
       "  'sea_level': 1014,\n",
       "  'grnd_level': 999},\n",
       " 'visibility': 10000,\n",
       " 'wind': {'speed': 2.68, 'deg': 34, 'gust': 3.58},\n",
       " 'clouds': {'all': 89},\n",
       " 'dt': 1747132547,\n",
       " 'sys': {'type': 2,\n",
       "  'id': 2004497,\n",
       "  'country': 'IT',\n",
       "  'sunrise': 1747108148,\n",
       "  'sunset': 1747161133},\n",
       " 'timezone': 7200,\n",
       " 'id': 3181927,\n",
       " 'name': 'Bologna',\n",
       " 'cod': 200}"
      ]
     },
     "execution_count": 7,
     "metadata": {},
     "output_type": "execute_result"
    }
   ],
   "source": [
    "json = result.json()\n",
    "json"
   ]
  },
  {
   "cell_type": "code",
   "execution_count": 5,
   "id": "6c1c7977",
   "metadata": {},
   "outputs": [],
   "source": [
    "import streamlit as st\n",
    "import numpy as np\n",
    "from io import BytesIO\n",
    "import matplotlib.pyplot as plt\n",
    "from numpy.random import rand\n",
    "import plotly.express as px\n",
    "from numpy.random import rand\n",
    "from PIL import Image"
   ]
  },
  {
   "cell_type": "code",
   "execution_count": null,
   "id": "27593a0f",
   "metadata": {},
   "outputs": [],
   "source": [
    "# city_name = st.text_input(\"Perfavore inserisci \",'Fusignano')"
   ]
  },
  {
   "cell_type": "code",
   "execution_count": null,
   "id": "e38d3528",
   "metadata": {},
   "outputs": [],
   "source": [
    "# url = f\"https://api.openweathermap.org/data/2.5/weather?q={city_name}&appid={API_key}\"\n",
    "# result = requests.get(url)\n",
    "\n",
    "# json = result.json()\n",
    "\n",
    "# json"
   ]
  }
 ],
 "metadata": {
  "kernelspec": {
   "display_name": "Python 3",
   "language": "python",
   "name": "python3"
  },
  "language_info": {
   "codemirror_mode": {
    "name": "ipython",
    "version": 3
   },
   "file_extension": ".py",
   "mimetype": "text/x-python",
   "name": "python",
   "nbconvert_exporter": "python",
   "pygments_lexer": "ipython3",
   "version": "3.12.4"
  }
 },
 "nbformat": 4,
 "nbformat_minor": 5
}
